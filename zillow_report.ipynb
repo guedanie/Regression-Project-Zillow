{
 "cells": [
  {
   "cell_type": "markdown",
   "metadata": {},
   "source": [
    "# Zillow Report"
   ]
  },
  {
   "cell_type": "markdown",
   "metadata": {},
   "source": [
    "### Objectives of this notebook:\n",
    "\n",
    "1. Provide a model that can predict home value of single unit properties that the tax district assessed during the months of May 2017 - June 2017, using number of bedrooms, number of bathrooms, and square feet of the property as features. \n",
    "\n",
    "1. Evaluate and work on different models to see if there are more effective predictor of home value.\n",
    "\n",
    "1. Find the location of the properties, and display the tax rate for each county that a property is located in\n",
    "\n",
    "1. Provide insight and further explanation onto some of the decision making that went into creating the outcome of this project."
   ]
  },
  {
   "cell_type": "markdown",
   "metadata": {},
   "source": [
    "### Inital Hypothesis\n",
    "\n",
    "* $H_0$: Using `bedroom cnt`, `bathroom cnt` and `square foot` for modeling is not significantly better than the mean baseline.\n",
    "* $H_1$: Using `bedroom cnt`, `bathroom cnt` and `square foot` for modeling is significantly better than the mean baseline."
   ]
  },
  {
   "cell_type": "markdown",
   "metadata": {},
   "source": [
    "## Imports"
   ]
  },
  {
   "cell_type": "code",
   "execution_count": 1,
   "metadata": {},
   "outputs": [],
   "source": [
    "import pandas as pd\n",
    "import wrangle_zillow\n",
    "import feature_engineering\n",
    "import split_scale\n",
    "import statsmodels.api as sm\n",
    "import matplotlib.pyplot as plt \n",
    "from math import sqrt\n",
    "from scipy import stats\n",
    "from pydataset import data\n",
    "from sklearn.linear_model import LassoCV, LinearRegression\n",
    "from sklearn.feature_selection import RFE, SelectKBest, f_regression\n",
    "import env\n",
    "from sklearn.metrics import explained_variance_score\n",
    "import explore\n",
    "import seaborn as sns\n",
    "import evaluate\n",
    "import sklearn.metrics"
   ]
  },
  {
   "cell_type": "code",
   "execution_count": 2,
   "metadata": {},
   "outputs": [],
   "source": [
    "wrangle_zillow.check_for_csv_file(\"zillow_plain_data.csv\")"
   ]
  },
  {
   "cell_type": "markdown",
   "metadata": {},
   "source": [
    "## Wrangle"
   ]
  },
  {
   "cell_type": "code",
   "execution_count": 3,
   "metadata": {},
   "outputs": [],
   "source": [
    "plain_data = wrangle_zillow.wrangle_plain_data()"
   ]
  },
  {
   "cell_type": "markdown",
   "metadata": {},
   "source": [
    "For this particular project, the data is pulled from the Sequel Pro database that the Zillow team provided us. The data is brought onto a Pandas Dataframe with some filters already in place. \n",
    "\n",
    "The query used is below for reference:\n",
    "\n",
    "```\n",
    "SELECT *\n",
    "FROM properties_2017\n",
    "JOIN predictions_2017 USING(id)\n",
    "WHERE (predictions_2017.transactiondate >= '2017-05-01' AND predictions_2017.transactiondate <= '2017-06-30')\n",
    "\tAND propertylandusetypeid = \"261\"\n",
    "\tAND bathroomcnt > 0\n",
    "\tAND bedroomcnt > 0\n",
    "\tAND calculatedfinishedsquarefeet > 0\n",
    "\tAND taxamount > 0\n",
    "\tAND taxvaluedollarcnt > 0\n",
    ";\n",
    "```\n",
    "\n",
    "Given that ceirtain features, like `bedroomcnt` and `bathroomcnt` have already been highlighted by the Zillow team as important, I made sure the data had no null values for those features. The data also only contains houses that had a transaction date between May 2017, and June 2017, as specified in the brief, and are classified are \"single family unit\"."
   ]
  },
  {
   "cell_type": "code",
   "execution_count": 4,
   "metadata": {
    "scrolled": true
   },
   "outputs": [
    {
     "name": "stdout",
     "output_type": "stream",
     "text": [
      "<class 'pandas.core.frame.DataFrame'>\n",
      "RangeIndex: 15956 entries, 0 to 15955\n",
      "Data columns (total 64 columns):\n",
      "Unnamed: 0                      15956 non-null int64\n",
      "id                              15956 non-null int64\n",
      "parcelid                        15956 non-null int64\n",
      "airconditioningtypeid           4002 non-null float64\n",
      "architecturalstyletypeid        11 non-null float64\n",
      "basementsqft                    5 non-null float64\n",
      "bathroomcnt                     15956 non-null float64\n",
      "bedroomcnt                      15956 non-null float64\n",
      "buildingclasstypeid             0 non-null float64\n",
      "buildingqualitytypeid           12357 non-null float64\n",
      "calculatedbathnbr               15951 non-null float64\n",
      "decktypeid                      56 non-null float64\n",
      "finishedfloor1squarefeet        788 non-null float64\n",
      "calculatedfinishedsquarefeet    15956 non-null float64\n",
      "finishedsquarefeet12            15921 non-null float64\n",
      "finishedsquarefeet13            0 non-null float64\n",
      "finishedsquarefeet15            0 non-null float64\n",
      "finishedsquarefeet50            788 non-null float64\n",
      "finishedsquarefeet6             35 non-null float64\n",
      "fips                            15956 non-null float64\n",
      "fireplacecnt                    1422 non-null float64\n",
      "fullbathcnt                     15951 non-null float64\n",
      "garagecarcnt                    3489 non-null float64\n",
      "garagetotalsqft                 3489 non-null float64\n",
      "hashottuborspa                  249 non-null float64\n",
      "heatingorsystemtypeid           12299 non-null float64\n",
      "latitude                        15956 non-null float64\n",
      "longitude                       15956 non-null float64\n",
      "lotsizesquarefeet               15884 non-null float64\n",
      "poolcnt                         3010 non-null float64\n",
      "poolsizesum                     141 non-null float64\n",
      "pooltypeid10                    72 non-null float64\n",
      "pooltypeid2                     177 non-null float64\n",
      "pooltypeid7                     2831 non-null float64\n",
      "propertycountylandusecode       15956 non-null object\n",
      "propertylandusetypeid           15956 non-null float64\n",
      "propertyzoningdesc              12372 non-null object\n",
      "rawcensustractandblock          15956 non-null float64\n",
      "regionidcity                    15706 non-null float64\n",
      "regionidcounty                  15956 non-null float64\n",
      "regionidneighborhood            6602 non-null float64\n",
      "regionidzip                     15947 non-null float64\n",
      "roomcnt                         15956 non-null float64\n",
      "storytypeid                     5 non-null float64\n",
      "threequarterbathnbr             1154 non-null float64\n",
      "typeconstructiontypeid          12 non-null float64\n",
      "unitcnt                         12369 non-null float64\n",
      "yardbuildingsqft17              348 non-null float64\n",
      "yardbuildingsqft26              14 non-null float64\n",
      "yearbuilt                       15950 non-null float64\n",
      "numberofstories                 2929 non-null float64\n",
      "fireplaceflag                   11 non-null float64\n",
      "structuretaxvaluedollarcnt      15950 non-null float64\n",
      "taxvaluedollarcnt               15956 non-null float64\n",
      "assessmentyear                  15956 non-null float64\n",
      "landtaxvaluedollarcnt           15956 non-null float64\n",
      "taxamount                       15956 non-null float64\n",
      "taxdelinquencyflag              307 non-null object\n",
      "taxdelinquencyyear              307 non-null float64\n",
      "censustractandblock             15901 non-null float64\n",
      "parcelid.1                      15956 non-null int64\n",
      "logerror                        15956 non-null float64\n",
      "transactiondate                 15956 non-null object\n",
      "tax_rates                       15956 non-null float64\n",
      "dtypes: float64(56), int64(4), object(4)\n",
      "memory usage: 7.8+ MB\n"
     ]
    }
   ],
   "source": [
    "plain_data.info()"
   ]
  },
  {
   "cell_type": "markdown",
   "metadata": {},
   "source": [
    "When the data is pulled into Pandas, we have a lot of different categories, as well as a lot of null values. It is at this point that I began wrangling the data so that it was in a more usable format. \n",
    "\n",
    "To clean the data, I took the following steps: \n",
    "\n",
    "1. In order to deal with the null values, I dropped features that had more than 10,000 null values \n",
    "    * The data pulled from SQL comes with 15,956 rows. Some features had as little as 11 values, and as such, I couldn't just drop all null values. After I dropped the categories with low values, then it was more sensible to drop all remaining null values, bringing the total number of values to 11,886, which is still a considerable size, and now we have more continues categories that can potentially be used to improve the model's performance. \n",
    "1. As per the brief's specification, we also wanted to include geographical information that wasn't available in the core dataset. \n",
    "    * Using the `fibs` value, it was possible to find the county and state that a house was in. Using the table (https://www.nrcs.usda.gov/wps/portal/nrcs/detail/national/home/?cid=nrcs143_013697), it was possible to add the geographical information by merging this table into our core database. \n",
    "    * The only tweak to the data needed was to convert `fibs` from a `float` to an `int` dtype.\n",
    "1. To make it easier to read, I also changed the column names for the key values. The changes are outlined in the table below:\n",
    "\n",
    "Original Name |  New Name \n",
    "--------------|------------\n",
    "`bathroomcnt` | `bathrooms`\n",
    "`bedroomcnt` |  `bedrooms` \n",
    "`calculatedfinishedsquarefeet` | `square_feet` \n",
    "`taxvaluedollarcnt` | `house_value` \n",
    "`landtaxvaluedollarcnt` | `tax_amount` \n",
    "\n",
    "4. These particular values were selected for the following reasons:\n",
    "    * `bathroomcnt` was selected over `calculatedbathnbr` because it has less null values. After doing some research, it turns out that the `calculatedbathnbr` is the number of bathrooms calculated by Zillow, while `bathroomcnt` is what the tax assessors are reporting. After calculating the percent difference between both categories, there was a 4% difference, I decided was small enough for me to treat both categories as equal. \n",
    "    * `calculatedfinishedsquarefeet` was selected over all the other square feet calculations because, based on research, the `calculatedfinishedsquarefeet` is calcualted by Zillow, and it is considered to be a much more accurate indicator. \n",
    "\n",
    "5. There was a small number of extreme outliers, particularly in the number of bathrooms and square_feet. To improve the model, these were removed.\n",
    "    * Houses that had more than 7 bathrooms were removed (45 rows)\n",
    "    * Houses with more than 5,000 square meters were removed (125 rows)\n",
    "    * Houses with more than 6 bedrooms were removed (23 rows) \n",
    "    * In total, it was a small amount of rows, but because some of the outliers were so extreme, they were affecting the model."
   ]
  },
  {
   "cell_type": "code",
   "execution_count": 5,
   "metadata": {},
   "outputs": [],
   "source": [
    "zillow_data = wrangle_zillow.wrangle_zillow()"
   ]
  },
  {
   "cell_type": "code",
   "execution_count": 6,
   "metadata": {},
   "outputs": [],
   "source": [
    "zillow_data = wrangle_zillow.remove_outliers(zillow_data)"
   ]
  },
  {
   "cell_type": "markdown",
   "metadata": {},
   "source": [
    "## Split and Scale"
   ]
  },
  {
   "cell_type": "markdown",
   "metadata": {},
   "source": [
    "We are now ready to split and scale the data. For this model, the `train_size` has been set to .8, and the `random_state` has been set to 123, for reproducibility purposes. "
   ]
  },
  {
   "cell_type": "code",
   "execution_count": 7,
   "metadata": {},
   "outputs": [],
   "source": [
    "train, test = split_scale.split_my_df(zillow_data)"
   ]
  },
  {
   "cell_type": "code",
   "execution_count": 8,
   "metadata": {},
   "outputs": [
    {
     "name": "stdout",
     "output_type": "stream",
     "text": [
      "The number of rows for our train dataset is now: 9463, and for our test dataset: 2366\n"
     ]
    }
   ],
   "source": [
    "print(f\"The number of rows for our train dataset is now: {train.shape[0]}, and for our test dataset: {test.shape[0]}\")"
   ]
  },
  {
   "cell_type": "code",
   "execution_count": 9,
   "metadata": {},
   "outputs": [],
   "source": [
    "train_mvp = wrangle_zillow.wrangle_mvp(train)\n",
    "test_mvp = wrangle_zillow.wrangle_mvp(test)"
   ]
  },
  {
   "cell_type": "code",
   "execution_count": 10,
   "metadata": {},
   "outputs": [],
   "source": [
    "assert(train_mvp.shape[0]) == train.shape[0]\n",
    "assert(test_mvp.shape[0]) == test.shape[0]"
   ]
  },
  {
   "cell_type": "markdown",
   "metadata": {},
   "source": [
    "Now that the data is split, I used a custome function to pull the key categories from the dataframe, allowing for easier modeling and testing before diving into other categories. We use the `assert` function to ensure that the number of rows matches our train and test datasets.\n",
    "\n",
    "Next we divide our data into our X and y values, to preprare it for modeling"
   ]
  },
  {
   "cell_type": "code",
   "execution_count": 11,
   "metadata": {},
   "outputs": [],
   "source": [
    "X_train_mvp = train_mvp.drop(columns = \"house_value\")\n",
    "y_train_mvp = train_mvp[[\"house_value\"]]\n",
    "X_test_mvp = test_mvp.drop(columns = \"house_value\")\n",
    "y_test_mvp = test_mvp[[\"house_value\"]]"
   ]
  },
  {
   "cell_type": "markdown",
   "metadata": {},
   "source": [
    "Given that we have multiple features that we will be combining to predict our target variable, and the fact that the individual features consist of differnt kinds of continuos data, it is important to scale them. Below I used a custom function to scale the key features. I used a Min_Max_Scaler because it is a linear scaler."
   ]
  },
  {
   "cell_type": "code",
   "execution_count": 12,
   "metadata": {},
   "outputs": [],
   "source": [
    "scaler, trained_scaled, test_scaled = split_scale.min_max_scaler(X_train_mvp, X_test_mvp)"
   ]
  },
  {
   "cell_type": "markdown",
   "metadata": {},
   "source": [
    "## Explore"
   ]
  },
  {
   "cell_type": "code",
   "execution_count": 13,
   "metadata": {
    "scrolled": true
   },
   "outputs": [
    {
     "data": {
      "image/png": "[encoded data removed]",
      "text/plain": [
       "<Figure size 540x540 with 12 Axes>"
      ]
     },
     "metadata": {
      "needs_background": "light"
     },
     "output_type": "display_data"
    }
   ],
   "source": [
    "explore.plot_variable_pairs(trained_scaled)"
   ]
  },
  {
   "cell_type": "markdown",
   "metadata": {},
   "source": [
    "By looking at the pairplot above, we can see that all of the key features are highly correlated to each other. This could be a problem when it comes to modeling, as it could mean that they are highly dependent on each other, and this would affect our linear regression model. To further check this hypothesis, I did a Pearsons-R test on both bedrooms and bathrooms and concluded that, because of the r value being above .5 and our p value being below 0.05, we can be confident that these two variable are highly correlated to each other. "
   ]
  },
  {
   "cell_type": "code",
   "execution_count": 14,
   "metadata": {
    "scrolled": true
   },
   "outputs": [
    {
     "name": "stdout",
     "output_type": "stream",
     "text": [
      "corr = 0.6227319696550754\n",
      " p = 0.0\n"
     ]
    }
   ],
   "source": [
    "x = zillow_data.square_feet\n",
    "y = zillow_data[\"bedrooms\"]\n",
    "\n",
    "corr, p = stats.pearsonr(x,y)\n",
    "\n",
    "print(f\"corr = {corr}\")\n",
    "print(f\" p = {p}\")"
   ]
  },
  {
   "cell_type": "code",
   "execution_count": 15,
   "metadata": {},
   "outputs": [
    {
     "data": {
      "text/plain": [
       "count    11829.000000\n",
       "mean      1743.233494\n",
       "std        855.230537\n",
       "min        320.000000\n",
       "25%       1198.000000\n",
       "50%       1528.000000\n",
       "75%       2036.000000\n",
       "max       9360.000000\n",
       "Name: square_feet, dtype: float64"
      ]
     },
     "execution_count": 15,
     "metadata": {},
     "output_type": "execute_result"
    }
   ],
   "source": [
    "zillow_data.square_feet.describe()"
   ]
  },
  {
   "cell_type": "code",
   "execution_count": 16,
   "metadata": {},
   "outputs": [
    {
     "name": "stdout",
     "output_type": "stream",
     "text": [
      "corr = 0.8330114253302665\n",
      " p = 0.0\n"
     ]
    }
   ],
   "source": [
    "x = zillow_data.square_feet\n",
    "y = zillow_data[\"bathrooms\"]\n",
    "\n",
    "corr, p = stats.pearsonr(x,y)\n",
    "\n",
    "print(f\"corr = {corr}\")\n",
    "print(f\" p = {p}\")"
   ]
  },
  {
   "cell_type": "code",
   "execution_count": 17,
   "metadata": {
    "scrolled": false
   },
   "outputs": [],
   "source": [
    "zillow_data[\"house_value_bin\"] = pd.cut(zillow_data.taxamount, 4, labels=[\"> 45K\", \"> 88K\", \"> 132K\", \">175K\"])"
   ]
  },
  {
   "cell_type": "markdown",
   "metadata": {},
   "source": [
    "I was also very interested in understanding how the data was distributed in comparison to the house value. I divide the data into 4 categories, and did box plots against all the key features to see if there were any major patterns."
   ]
  },
  {
   "cell_type": "code",
   "execution_count": 18,
   "metadata": {},
   "outputs": [
    {
     "data": {
      "text/plain": [
       "> 45K     11417\n",
       "> 88K       312\n",
       "> 132K       78\n",
       ">175K        22\n",
       "Name: house_value_bin, dtype: int64"
      ]
     },
     "execution_count": 18,
     "metadata": {},
     "output_type": "execute_result"
    }
   ],
   "source": [
    "zillow_data.house_value_bin.value_counts()"
   ]
  },
  {
   "cell_type": "code",
   "execution_count": 19,
   "metadata": {
    "scrolled": false
   },
   "outputs": [
    {
     "data": {
      "text/plain": [
       "<matplotlib.axes._subplots.AxesSubplot at 0x1253b79d0>"
      ]
     },
     "execution_count": 19,
     "metadata": {},
     "output_type": "execute_result"
    },
    {
     "data": {
      "image/png": "[encoded data removed]",
      "text/plain": [
       "<Figure size 432x288 with 1 Axes>"
      ]
     },
     "metadata": {
      "needs_background": "light"
     },
     "output_type": "display_data"
    }
   ],
   "source": [
    "sns.boxplot(x =\"house_value_bin\", y = \"square_feet\", data=zillow_data)"
   ]
  },
  {
   "cell_type": "markdown",
   "metadata": {},
   "source": [
    "Interestingly, when looking at home value versus square feet, we notice that square feet is not the only driver of house value. For example, it seems that the mean square feet of houses between $89 K and $132 K is higher than the more expensive houses. This is probably due to location (more urban versus rural) and potentially other features, like proximity to schools. Because it is a small number of samples (2 each), it is not worth doing a t-test, as the results won't have a significant impact in the overall result of the model. "
   ]
  },
  {
   "cell_type": "code",
   "execution_count": 20,
   "metadata": {},
   "outputs": [
    {
     "data": {
      "text/plain": [
       "<matplotlib.axes._subplots.AxesSubplot at 0x125599790>"
      ]
     },
     "execution_count": 20,
     "metadata": {},
     "output_type": "execute_result"
    },
    {
     "data": {
      "image/png": "[encoded data removed]",
      "text/plain": [
       "<Figure size 432x288 with 1 Axes>"
      ]
     },
     "metadata": {
      "needs_background": "light"
     },
     "output_type": "display_data"
    }
   ],
   "source": [
    "sns.boxplot(x =\"house_value_bin\", y = \"bathrooms\", data=zillow_data)"
   ]
  },
  {
   "cell_type": "markdown",
   "metadata": {},
   "source": [
    "Similarly, we see that bathrooms and bedrooms are not necesarly the main drivers of value, given that there are houses with much higher bathroom and bedroom count, but lower house value. While does doesn't reject the null hypothesis - it does give us an indication about the fact that these key features might not be the most optimal ones for calculating house value."
   ]
  },
  {
   "cell_type": "code",
   "execution_count": 21,
   "metadata": {},
   "outputs": [
    {
     "data": {
      "text/plain": [
       "<matplotlib.axes._subplots.AxesSubplot at 0x1253d2050>"
      ]
     },
     "execution_count": 21,
     "metadata": {},
     "output_type": "execute_result"
    },
    {
     "data": {
      "image/png": "[encoded data removed]",
      "text/plain": [
       "<Figure size 432x288 with 1 Axes>"
      ]
     },
     "metadata": {
      "needs_background": "light"
     },
     "output_type": "display_data"
    }
   ],
   "source": [
    "sns.boxplot(x =\"house_value_bin\", y = \"bedrooms\", data=zillow_data)"
   ]
  },
  {
   "cell_type": "code",
   "execution_count": 22,
   "metadata": {},
   "outputs": [
    {
     "data": {
      "text/plain": [
       "0.01112356958237813"
      ]
     },
     "execution_count": 22,
     "metadata": {},
     "output_type": "execute_result"
    }
   ],
   "source": [
    "x = zillow_data.bedrooms[zillow_data.house_value_bin == \"> 88K\"]\n",
    "\n",
    "y = zillow_data.bedrooms[zillow_data.house_value_bin == \"> 132K\"]\n",
    "\n",
    "tstat, p = stats.ttest_ind(x, y)\n",
    "\n",
    "p"
   ]
  },
  {
   "cell_type": "markdown",
   "metadata": {},
   "source": [
    "Interestingly, when I did a two tail test, above, to compare if bedroom count had an impact on home value, it shows that bedroom count is statistically different - however, given the size of the data set, we would expect p to be extremly close to zero, and so this reinforces the notion that bedroom count is probably not a significant an indicator of home value."
   ]
  },
  {
   "cell_type": "code",
   "execution_count": 23,
   "metadata": {},
   "outputs": [
    {
     "data": {
      "text/plain": [
       "<seaborn.axisgrid.JointGrid at 0x1245cfc10>"
      ]
     },
     "execution_count": 23,
     "metadata": {},
     "output_type": "execute_result"
    },
    {
     "data": {
      "image/png": "[encoded data removed]",
      "text/plain": [
       "<Figure size 432x432 with 3 Axes>"
      ]
     },
     "metadata": {
      "needs_background": "light"
     },
     "output_type": "display_data"
    }
   ],
   "source": [
    "sns.jointplot(zillow_data.house_value, zillow_data.square_feet, data=zillow_data, kind = \"reg\")"
   ]
  },
  {
   "cell_type": "markdown",
   "metadata": {},
   "source": [
    "I was curious to see the general distribution of the data, particularly the house value and the square feet. We see that they are not normally distributed, with both being very right skewed A pearson's test does show that both are positively correlated, and this gives us reassurance that at the very least we can use square feet to create a model that will perform better than a mean baseline. "
   ]
  },
  {
   "cell_type": "code",
   "execution_count": 24,
   "metadata": {},
   "outputs": [
    {
     "name": "stdout",
     "output_type": "stream",
     "text": [
      "0.6199486702053618 0.0\n"
     ]
    }
   ],
   "source": [
    "r, p = stats.pearsonr(zillow_data.house_value, zillow_data.square_feet)\n",
    "\n",
    "print(r, p)"
   ]
  },
  {
   "cell_type": "markdown",
   "metadata": {},
   "source": [
    "After finishing the advance modeling, I saw there was still an opportunity to improve the model. I was curious to see if there were any other features that could help improve our tests performance. I did a comparison between `house_value` and `lotsizesquarefeet`, but there seems to be very little correlation. There is a significant number of outliers that are perhaps affecting the skew, and this might something that perhaps could be combined with the calculated square feet of the house to get a calculated total feet of the property."
   ]
  },
  {
   "cell_type": "code",
   "execution_count": 25,
   "metadata": {},
   "outputs": [
    {
     "name": "stdout",
     "output_type": "stream",
     "text": [
      "0.11825436358509378 4.1945930016078067e-38\n"
     ]
    }
   ],
   "source": [
    "r, p = stats.pearsonr(zillow_data.house_value, zillow_data.lotsizesquarefeet)\n",
    "\n",
    "print(r, p)"
   ]
  },
  {
   "cell_type": "code",
   "execution_count": 26,
   "metadata": {
    "scrolled": true
   },
   "outputs": [
    {
     "data": {
      "text/plain": [
       "<seaborn.axisgrid.JointGrid at 0x126e4e2d0>"
      ]
     },
     "execution_count": 26,
     "metadata": {},
     "output_type": "execute_result"
    },
    {
     "data": {
      "image/png": "[encoded data removed]",
      "text/plain": [
       "<Figure size 432x432 with 3 Axes>"
      ]
     },
     "metadata": {
      "needs_background": "light"
     },
     "output_type": "display_data"
    }
   ],
   "source": [
    "sns.jointplot(zillow_data.house_value, zillow_data.lotsizesquarefeet, data=zillow_data, kind = \"reg\")"
   ]
  },
  {
   "cell_type": "markdown",
   "metadata": {},
   "source": [
    "__________"
   ]
  },
  {
   "cell_type": "markdown",
   "metadata": {},
   "source": [
    "# Geographical Tax Distribution"
   ]
  },
  {
   "cell_type": "markdown",
   "metadata": {},
   "source": [
    "From the customer's email:\n",
    "\n",
    ">We'd also like to know the distribution of tax rates for each county.\n",
    "> The data should have the tax amounts and tax value of the home, so it shouldn't be too hard to calculate. Please include in your report to us the distribution of tax rates for each county so that we can see how much they vary within the properties in the county and the rates the bulk of the properties sit around."
   ]
  },
  {
   "cell_type": "code",
   "execution_count": 27,
   "metadata": {},
   "outputs": [],
   "source": [
    "geo_data = wrangle_zillow.wrangle_geo_data(plain_data)"
   ]
  },
  {
   "cell_type": "code",
   "execution_count": 28,
   "metadata": {
    "scrolled": true
   },
   "outputs": [
    {
     "data": {
      "text/plain": [
       "county\n",
       "Los Angeles       12388\n",
       "Orange County      2780\n",
       "Ventura County      788\n",
       "Name: tax_rates, dtype: int64"
      ]
     },
     "execution_count": 28,
     "metadata": {},
     "output_type": "execute_result"
    }
   ],
   "source": [
    "geo_data.groupby(\"county\")[\"tax_rates\"].count()"
   ]
  },
  {
   "cell_type": "code",
   "execution_count": 29,
   "metadata": {},
   "outputs": [
    {
     "name": "stdout",
     "output_type": "stream",
     "text": [
      "\n",
      "\n",
      "The average tax rate for Los Angeles is: 1.37%\n",
      "The average tax rate for Orange county is: 1.21%\n",
      "The average tax rate for Ventura county is: 1.15%\n",
      "\n"
     ]
    }
   ],
   "source": [
    "tax_rates = geo_data.groupby(\"county\")[\"tax_rates\"].mean()\n",
    "\n",
    "print(f'''\n",
    "\n",
    "The average tax rate for Los Angeles is: {tax_rates[0]:.2f}%\n",
    "The average tax rate for Orange county is: {tax_rates[1]:.2f}%\n",
    "The average tax rate for Ventura county is: {tax_rates[2]:.2f}%\n",
    "''')"
   ]
  },
  {
   "cell_type": "code",
   "execution_count": 30,
   "metadata": {},
   "outputs": [
    {
     "data": {
      "text/plain": [
       "Text(0.5, 0.98, 'Tax rate distributions')"
      ]
     },
     "execution_count": 30,
     "metadata": {},
     "output_type": "execute_result"
    },
    {
     "data": {
      "image/png": "[encoded data removed]",
      "text/plain": [
       "<Figure size 1152x576 with 2 Axes>"
      ]
     },
     "metadata": {
      "needs_background": "light"
     },
     "output_type": "display_data"
    }
   ],
   "source": [
    "figure, axes = plt.subplots(1,2, figsize=(16,8))\n",
    "sns.violinplot(\"county\", \"tax_rates\", data=geo_data, ax=axes[0])\n",
    "sns.boxplot(\"county\", \"tax_rates\", data=geo_data, ax=axes[1])\n",
    "plt.ylabel(\"Tax Rate\")\n",
    "plt.suptitle(\"Tax rate distributions\")"
   ]
  },
  {
   "cell_type": "code",
   "execution_count": 31,
   "metadata": {},
   "outputs": [
    {
     "data": {
      "image/png": "[encoded data removed]",
      "text/plain": [
       "<Figure size 1152x576 with 3 Axes>"
      ]
     },
     "metadata": {
      "needs_background": "light"
     },
     "output_type": "display_data"
    }
   ],
   "source": [
    "tax_rates_LA = geo_data[geo_data[\"county\"] == \"Los Angeles\"].tax_rates\n",
    "tax_rates_OC = geo_data[geo_data[\"county\"] == \"Orange County\"].tax_rates\n",
    "tax_rates_V = geo_data[geo_data[\"county\"] == \"Ventura County\"].tax_rates\n",
    "\n",
    "figure, axes = plt.subplots(3,1, figsize=(16,8))\n",
    "sns.distplot(tax_rates_LA, axlabel=\"LA County\", color=\"g\", ax=axes[0])\n",
    "sns.distplot(tax_rates_OC, axlabel=\"Orange County\", color=\"y\", ax=axes[1])\n",
    "sns.distplot(tax_rates_V,axlabel=\"Ventura County\", color=\"b\", ax=axes[2])\n",
    "figure.tight_layout()"
   ]
  },
  {
   "cell_type": "markdown",
   "metadata": {},
   "source": [
    "## Key Take-aways:\n"
   ]
  },
  {
   "cell_type": "code",
   "execution_count": 32,
   "metadata": {
    "scrolled": true
   },
   "outputs": [
    {
     "name": "stdout",
     "output_type": "stream",
     "text": [
      "\n",
      "\n",
      "* Los Angeles county has, on average, the highest tax_rate. That being said, the base majority of the properties in the dataset would fall under the LA county. \n",
      "    * Los Angles max tax rate is: 16%\n",
      "    * Because there are so many outliers, the mean is likely not as accurate, the\n",
      "      median is a better indicator, which is: 1%\n",
      "* Orange County has the second highest tax rate average\n",
      "    * It has a max tax rate of: 5%\n",
      "    * Although it does not include as many outliers as LA, it still has a fair number, so the median is: 1%\n",
      "* Ventura county has the smallest average tax rate\n",
      "    * It has a max tax rate of: 3%\n",
      "    * A median of: 1%\n",
      "      \n",
      "From the box plot and whisker plot above, we can see that it is not a very normally distributed rate, with the data for all three counties being skewed towards the left, due to the fact that there a lot of outliers.\n",
      "The reason for this distribution is likely due to the location of the property, as well as the number of features the property might have.       \n",
      "\n"
     ]
    }
   ],
   "source": [
    "print(f'''\n",
    "\n",
    "* Los Angeles county has, on average, the highest tax_rate. That being said, the base majority of the properties in the dataset would fall under the LA county. \n",
    "    * Los Angles max tax rate is: {geo_data.groupby(\"county\")[\"tax_rates\"].max()[0]:.0f}%\n",
    "    * Because there are so many outliers, the mean is likely not as accurate, the\n",
    "      median is a better indicator, which is: {geo_data.groupby(\"county\")[\"tax_rates\"].median()[0]:.0f}%\n",
    "* Orange County has the second highest tax rate average\n",
    "    * It has a max tax rate of: {geo_data.groupby(\"county\")[\"tax_rates\"].max()[1]:.0f}%\n",
    "    * Although it does not include as many outliers as LA, it still has a fair number, so the median is: {geo_data.groupby(\"county\")[\"tax_rates\"].median()[1]:.0f}%\n",
    "* Ventura county has the smallest average tax rate\n",
    "    * It has a max tax rate of: {geo_data.groupby(\"county\")[\"tax_rates\"].max()[2]:.0f}%\n",
    "    * A median of: {geo_data.groupby(\"county\")[\"tax_rates\"].median()[1]:.0f}%\n",
    "      \n",
    "From the box plot and whisker plot above, we can see that it is not a very normally distributed rate, with the data for all three counties being skewed towards the left, due to the fact that there a lot of outliers.\n",
    "The reason for this distribution is likely due to the location of the property, as well as the number of features the property might have.       \n",
    "''')"
   ]
  },
  {
   "cell_type": "markdown",
   "metadata": {},
   "source": [
    "____________________"
   ]
  },
  {
   "cell_type": "markdown",
   "metadata": {},
   "source": [
    "## Modeling"
   ]
  },
  {
   "cell_type": "markdown",
   "metadata": {},
   "source": [
    "Now that the data has been cleaned and scaled, we are ready to create our model. I used a Linear Regression model, given that I noticed there were some strong correlations between our target data and our key features. This might become an issue later, as some of the features are highly dependent on each other, but that will be something we tackle after the MVP has been finalized. \n",
    "\n",
    "I created 4 individual models to begin with, and all of the predictions are stored in a new dataframe called `predictions`. This dataframe is what will be used to calculate the mean error metrics for evaluation."
   ]
  },
  {
   "cell_type": "code",
   "execution_count": 33,
   "metadata": {},
   "outputs": [],
   "source": [
    "# Linear Model using \"Bedroom Count\"\n",
    "predictions = pd.DataFrame({\"actual\": y_train_mvp.house_value})\n",
    "\n",
    "\n",
    "X_1 = trained_scaled[[\"bedrooms\"]]\n",
    "y_1 = y_train_mvp\n",
    "\n",
    "lm = LinearRegression().fit(X_1, y_1)\n",
    "predictions[\"lm_bedrooms\"] = lm.predict(X_1)"
   ]
  },
  {
   "cell_type": "code",
   "execution_count": 34,
   "metadata": {},
   "outputs": [],
   "source": [
    "# Linear Model using \"Bathroom Count\"\n",
    "\n",
    "X_2 = trained_scaled[[\"bathrooms\"]]\n",
    "y_2 = y_train_mvp\n",
    "\n",
    "lm = LinearRegression().fit(X_2, y_2)\n",
    "predictions[\"lm_bathrooms\"] = lm.predict(X_2)"
   ]
  },
  {
   "cell_type": "code",
   "execution_count": 35,
   "metadata": {},
   "outputs": [],
   "source": [
    "# Linear Model using \"square feet\"\n",
    "\n",
    "X_3 = trained_scaled[[\"square_feet\"]]\n",
    "y_3 = y_train_mvp\n",
    "\n",
    "lm = LinearRegression().fit(X_3, y_3)\n",
    "predictions[\"lm_square_feet\"] = lm.predict(X_3)"
   ]
  },
  {
   "cell_type": "code",
   "execution_count": 36,
   "metadata": {},
   "outputs": [],
   "source": [
    "# Linear Model using all three features\n",
    "\n",
    "X_4 = trained_scaled\n",
    "y_4 = y_train_mvp\n",
    "\n",
    "lm = LinearRegression().fit(X_4, y_4)\n",
    "predictions[\"lm_key_features\"] = lm.predict(X_4)\n"
   ]
  },
  {
   "cell_type": "code",
   "execution_count": 37,
   "metadata": {},
   "outputs": [
    {
     "name": "stdout",
     "output_type": "stream",
     "text": [
      "\n",
      "\n",
      "Coefficient summary:\n",
      "\n",
      "Bedrooms:331,486.41\n",
      "\n",
      "Bathrooms: -523,547.44\n",
      "\n",
      "Square feet: 3,373,332.44.\n",
      "\n",
      "\n",
      "R-square = 0.39\n",
      "\n",
      "While the model has a good R-Square value - the coeficients don't make sense. This is likely due to the fact that the variables are dependent on each other, and this is causing a skew in \n",
      "the model.\n",
      "\n"
     ]
    }
   ],
   "source": [
    "print(f'''\n",
    "\n",
    "Coefficient summary:\n",
    "\n",
    "Bedrooms:{lm.coef_[0][0]:,.2f}\n",
    "\n",
    "Bathrooms: {lm.coef_[0][1]:,.2f}\n",
    "\n",
    "Square feet: {lm.coef_[0][2]:,.2f}.\n",
    "\n",
    "\n",
    "R-square = {explained_variance_score(predictions.actual, predictions.lm_square_feet):.2f}\n",
    "\n",
    "While the model has a good R-Square value - the coeficients don't make sense. This is likely due to the fact that the variables are dependent on each other, and this is causing a skew in \n",
    "the model.\n",
    "'''\n",
    ")"
   ]
  },
  {
   "cell_type": "markdown",
   "metadata": {},
   "source": [
    "Because `house_value` is not a normally distributed curve, I have decided to use the median, rather than the mean, as the baseline."
   ]
  },
  {
   "cell_type": "code",
   "execution_count": 38,
   "metadata": {},
   "outputs": [],
   "source": [
    "predictions[\"baseline\"] = y_train_mvp[\"house_value\"].median()"
   ]
  },
  {
   "cell_type": "code",
   "execution_count": 39,
   "metadata": {
    "scrolled": false
   },
   "outputs": [
    {
     "data": {
      "text/html": [
       "<div>\n",
       "<style scoped>\n",
       "    .dataframe tbody tr th:only-of-type {\n",
       "        vertical-align: middle;\n",
       "    }\n",
       "\n",
       "    .dataframe tbody tr th {\n",
       "        vertical-align: top;\n",
       "    }\n",
       "\n",
       "    .dataframe thead th {\n",
       "        text-align: right;\n",
       "    }\n",
       "</style>\n",
       "<table border=\"1\" class=\"dataframe\">\n",
       "  <thead>\n",
       "    <tr style=\"text-align: right;\">\n",
       "      <th></th>\n",
       "      <th>actual</th>\n",
       "      <th>lm_bedrooms</th>\n",
       "      <th>lm_bathrooms</th>\n",
       "      <th>lm_square_feet</th>\n",
       "      <th>lm_key_features</th>\n",
       "      <th>baseline</th>\n",
       "    </tr>\n",
       "  </thead>\n",
       "  <tbody>\n",
       "    <tr>\n",
       "      <th>2987</th>\n",
       "      <td>104752.0</td>\n",
       "      <td>238598.188336</td>\n",
       "      <td>391055.909444</td>\n",
       "      <td>502765.284283</td>\n",
       "      <td>621559.935368</td>\n",
       "      <td>296057.0</td>\n",
       "    </tr>\n",
       "    <tr>\n",
       "      <th>1596</th>\n",
       "      <td>561559.0</td>\n",
       "      <td>717575.500003</td>\n",
       "      <td>660342.255669</td>\n",
       "      <td>533459.827911</td>\n",
       "      <td>394680.687272</td>\n",
       "      <td>296057.0</td>\n",
       "    </tr>\n",
       "    <tr>\n",
       "      <th>4094</th>\n",
       "      <td>397470.0</td>\n",
       "      <td>398257.292225</td>\n",
       "      <td>121769.563219</td>\n",
       "      <td>205569.879511</td>\n",
       "      <td>151753.093464</td>\n",
       "      <td>296057.0</td>\n",
       "    </tr>\n",
       "    <tr>\n",
       "      <th>3423</th>\n",
       "      <td>178703.0</td>\n",
       "      <td>398257.292225</td>\n",
       "      <td>391055.909444</td>\n",
       "      <td>191486.500670</td>\n",
       "      <td>192317.796022</td>\n",
       "      <td>296057.0</td>\n",
       "    </tr>\n",
       "    <tr>\n",
       "      <th>20</th>\n",
       "      <td>221860.0</td>\n",
       "      <td>717575.500003</td>\n",
       "      <td>929628.601894</td>\n",
       "      <td>979072.378930</td>\n",
       "      <td>914514.607904</td>\n",
       "      <td>296057.0</td>\n",
       "    </tr>\n",
       "  </tbody>\n",
       "</table>\n",
       "</div>"
      ],
      "text/plain": [
       "        actual    lm_bedrooms   lm_bathrooms  lm_square_feet  lm_key_features  \\\n",
       "2987  104752.0  238598.188336  391055.909444   502765.284283    621559.935368   \n",
       "1596  561559.0  717575.500003  660342.255669   533459.827911    394680.687272   \n",
       "4094  397470.0  398257.292225  121769.563219   205569.879511    151753.093464   \n",
       "3423  178703.0  398257.292225  391055.909444   191486.500670    192317.796022   \n",
       "20    221860.0  717575.500003  929628.601894   979072.378930    914514.607904   \n",
       "\n",
       "      baseline  \n",
       "2987  296057.0  \n",
       "1596  296057.0  \n",
       "4094  296057.0  \n",
       "3423  296057.0  \n",
       "20    296057.0  "
      ]
     },
     "execution_count": 39,
     "metadata": {},
     "output_type": "execute_result"
    }
   ],
   "source": [
    "predictions.head()"
   ]
  },
  {
   "cell_type": "markdown",
   "metadata": {},
   "source": [
    "## Evaluate"
   ]
  },
  {
   "cell_type": "markdown",
   "metadata": {},
   "source": [
    "Now that the models have been finalized, we can focus on evaluating the models and figuring out which is the best performing ones. "
   ]
  },
  {
   "cell_type": "code",
   "execution_count": 40,
   "metadata": {
    "scrolled": true
   },
   "outputs": [
    {
     "data": {
      "text/plain": [
       "actual             0.000000e+00\n",
       "lm_bedrooms        2.270279e+11\n",
       "lm_bathrooms       1.784672e+11\n",
       "lm_square_feet     1.516813e+11\n",
       "lm_key_features    1.467294e+11\n",
       "baseline           2.639209e+11\n",
       "dtype: float64"
      ]
     },
     "execution_count": 40,
     "metadata": {},
     "output_type": "execute_result"
    }
   ],
   "source": [
    "predictions.apply(lambda col: sklearn.metrics.mean_squared_error(predictions.actual, col))"
   ]
  },
  {
   "cell_type": "markdown",
   "metadata": {},
   "source": [
    "### Conclusion\n",
    "\n",
    "By looking at the mean squared error - we can tell that our combined model has the smallest error.\n",
    "\n",
    "However, because of the nature of the key features - and the fact that all three categories are dependent on each other - I will would not recommend using the combined model. Instead, I suggest using the lm square feet model, which still has a similar MSE to the combined model, but it avoids the complexity of combining dependent variables.\n",
    "\n",
    "In order to ensure that the model actually works, and is not overfitted, we now pass our test data, and review the MSE scores between our train and test data."
   ]
  },
  {
   "cell_type": "code",
   "execution_count": 41,
   "metadata": {},
   "outputs": [],
   "source": [
    "X_3 = trained_scaled[[\"square_feet\"]]\n",
    "y_3 = y_train_mvp\n",
    "\n",
    "lm = LinearRegression().fit(X_3, y_3)"
   ]
  },
  {
   "cell_type": "code",
   "execution_count": 42,
   "metadata": {},
   "outputs": [],
   "source": [
    "train_mse = sklearn.metrics.mean_squared_error(predictions.actual, predictions.lm_square_feet)"
   ]
  },
  {
   "cell_type": "markdown",
   "metadata": {},
   "source": [
    "For further assurance, we plot the actual values against the predicted ones (from our square_feet model only) to see how the model performs. As we can see, the values don't have a very strong correlation, but the model does perform better than the baseline."
   ]
  },
  {
   "cell_type": "code",
   "execution_count": 43,
   "metadata": {},
   "outputs": [
    {
     "data": {
      "image/png": "[encoded data removed]",
      "text/plain": [
       "<Figure size 648x648 with 1 Axes>"
      ]
     },
     "metadata": {
      "needs_background": "light"
     },
     "output_type": "display_data"
    }
   ],
   "source": [
    "plt.figure(figsize=(9, 9))\n",
    "\n",
    "plt.scatter(predictions.actual, predictions.lm_key_features, label=\"bedroom, bathroom and sqr feet\", marker='o')\n",
    "plt.scatter(predictions.actual, predictions.baseline, label=r'Baseline ($\\hat{y} = \\bar{y}$)', marker='o')\n",
    "plt.plot(\n",
    "    [predictions.actual.min(), predictions.actual.max()],\n",
    "    [predictions.actual.min(), predictions.actual.max()],\n",
    "    ls=':',\n",
    "    label='perfect prediction',\n",
    "    c='grey'\n",
    ")\n",
    "\n",
    "plt.legend(title='Model')\n",
    "plt.ylabel('Predicted')\n",
    "plt.xlabel('Actual')\n",
    "plt.title('Predicted vs Actual')\n",
    "\n",
    "plt.show()"
   ]
  },
  {
   "cell_type": "markdown",
   "metadata": {},
   "source": [
    "Below I refitted the model with our X and y values for square_feet, and then passed the test data through it. We see that there is some difference between the test and train mse's, but they are within the expected difference. "
   ]
  },
  {
   "cell_type": "code",
   "execution_count": 44,
   "metadata": {
    "scrolled": true
   },
   "outputs": [],
   "source": [
    "X_3 = trained_scaled[[\"square_feet\"]]\n",
    "y_3 = y_train_mvp\n",
    "\n",
    "lm = LinearRegression().fit(X_3, y_3)\n",
    "\n",
    "y_test_prediction = lm.predict(test_scaled[[\"square_feet\"]])\n",
    "y_test_actual = y_test_mvp\n",
    "\n",
    "test_mse = sklearn.metrics.mean_squared_error(y_test_actual, y_test_prediction)"
   ]
  },
  {
   "cell_type": "code",
   "execution_count": 45,
   "metadata": {
    "scrolled": false
   },
   "outputs": [
    {
     "name": "stdout",
     "output_type": "stream",
     "text": [
      "\n",
      "\n",
      "Our test MSE is: 1e+11\n",
      "Our train MSE is: 2e+11\n",
      "\n",
      "The difference is 2% \n",
      "\n"
     ]
    }
   ],
   "source": [
    "print(f'''\n",
    "\n",
    "Our test MSE is: { test_mse:,.0}\n",
    "Our train MSE is: {train_mse:,.0}\n",
    "\n",
    "The difference is {(train_mse -  test_mse)/ test_mse * 100:.0f}% \n",
    "'''\n",
    "     )"
   ]
  },
  {
   "cell_type": "code",
   "execution_count": 46,
   "metadata": {
    "scrolled": true
   },
   "outputs": [
    {
     "name": "stdout",
     "output_type": "stream",
     "text": [
      "\n",
      "Based on our fitted linear model, we would expect that for every square feet, the house value would increase by $3,235,566.01. \n",
      "\n",
      "So we know that, even though our model is better than the baseline, it is still not as good as it can be.\n",
      "\n",
      "R-square = 0.39\n",
      "\n"
     ]
    }
   ],
   "source": [
    "print(f'''\n",
    "Based on our fitted linear model, we would expect that for every square feet, the house value would increase by ${lm.coef_[0][0]:,.2f}. \n",
    "\n",
    "So we know that, even though our model is better than the baseline, it is still not as good as it can be.\n",
    "\n",
    "R-square = {explained_variance_score(predictions.actual, predictions.lm_square_feet):.2f}\n",
    "'''\n",
    ")"
   ]
  },
  {
   "cell_type": "markdown",
   "metadata": {},
   "source": [
    "________________"
   ]
  },
  {
   "cell_type": "markdown",
   "metadata": {},
   "source": [
    "# Prefered Model: Model with feature engineering"
   ]
  },
  {
   "cell_type": "markdown",
   "metadata": {},
   "source": [
    "Since we saw that our model was not performing as well as it could, I thought about using some domain knowledge and feature engineering to improve the model's performance. Given that the previus model was being affected by the fact that its key features were all dependent on each other, it was throwing off the predictions. So instead, I looked to see if I could engineer new features to help me create a better model. \n",
    "\n",
    "After a discussion with a senior Zillow Data Science team member, they suggested perhaps recalculating square feet so that it no longer was dependent on the other variables. \n",
    "\n",
    "With this idea, I did research and found that the average bedroom size in the US is 219 square feet$^1$, while the average bathroom is 40 square feet$^2$. With this in mind, I was able to create new features by multiplying the average to the number of rooms, then subtracting the new square meters from the total square feet. This way, the number of bedrooms and bathrooms were not dependent on the total square feet, and it also allowed each feature to be more significantly more impactful.\n",
    "\n",
    "The new features were added to the wrangle_zillow.py file, to ensure that the data was still split evenly, and that there was not test data leackage. \n",
    "\n",
    "* $H_0$: A model using updated square footage, bedroom sqft and bathroom sqft as features to predict home value will not perform better than a model only using square footage.\n",
    "* $H_a$: A model using updated square footage, bedroom sqft and bathroom sqft as features to predict home value will  perform better than a model only using square footage.\n",
    "\n",
    "1: https://www.creditdonkey.com/average-bedroom-size.html\n",
    "\n",
    "2: https://www.reference.com/business-finance/size-average-bathroom-56f5cc6a836759b6\n",
    "\n"
   ]
  },
  {
   "cell_type": "code",
   "execution_count": 47,
   "metadata": {},
   "outputs": [],
   "source": [
    "X_train_adv = train[[\"sqft_without_bedroom_bathroom\", \"bedroom_sqft\", \"bathroom_sqft\"]]\n",
    "y_train_adv = train[[\"house_value\"]]\n",
    "X_test_adv = test[[\"sqft_without_bedroom_bathroom\", \"bedroom_sqft\", \"bathroom_sqft\"]]\n",
    "y_test_adv = test[[\"house_value\"]]\n",
    "\n",
    "# scaler, train_scaled, test_scaled = split_scale.min_max_scaler(X_train_adv, X_test_adv)"
   ]
  },
  {
   "cell_type": "markdown",
   "metadata": {},
   "source": [
    "Because the key features have already been modified so that they are all on the same unit, we don't have to scale them before fitting them through the data."
   ]
  },
  {
   "cell_type": "code",
   "execution_count": 48,
   "metadata": {
    "scrolled": false
   },
   "outputs": [],
   "source": [
    "# Linear Model using both sqft without bedroom and sqft for bedroom\n",
    "\n",
    "X_adv = X_train_adv[[\"sqft_without_bedroom_bathroom\", \"bedroom_sqft\", \"bathroom_sqft\"]]\n",
    "y_adv = y_train_adv\n",
    "\n",
    "lm = LinearRegression().fit(X_adv, y_adv)\n",
    "predictions[\"lm_sqft\"] = lm.predict(X_adv)"
   ]
  },
  {
   "cell_type": "code",
   "execution_count": 49,
   "metadata": {
    "scrolled": false
   },
   "outputs": [
    {
     "data": {
      "text/html": [
       "<div>\n",
       "<style scoped>\n",
       "    .dataframe tbody tr th:only-of-type {\n",
       "        vertical-align: middle;\n",
       "    }\n",
       "\n",
       "    .dataframe tbody tr th {\n",
       "        vertical-align: top;\n",
       "    }\n",
       "\n",
       "    .dataframe thead th {\n",
       "        text-align: right;\n",
       "    }\n",
       "</style>\n",
       "<table border=\"1\" class=\"dataframe\">\n",
       "  <thead>\n",
       "    <tr style=\"text-align: right;\">\n",
       "      <th></th>\n",
       "      <th>actual</th>\n",
       "      <th>lm_bedrooms</th>\n",
       "      <th>lm_bathrooms</th>\n",
       "      <th>lm_square_feet</th>\n",
       "      <th>lm_key_features</th>\n",
       "      <th>baseline</th>\n",
       "      <th>lm_sqft</th>\n",
       "    </tr>\n",
       "  </thead>\n",
       "  <tbody>\n",
       "    <tr>\n",
       "      <th>2987</th>\n",
       "      <td>104752.0</td>\n",
       "      <td>238598.19</td>\n",
       "      <td>391055.91</td>\n",
       "      <td>502765.28</td>\n",
       "      <td>621559.94</td>\n",
       "      <td>296057.0</td>\n",
       "      <td>621559.94</td>\n",
       "    </tr>\n",
       "    <tr>\n",
       "      <th>1596</th>\n",
       "      <td>561559.0</td>\n",
       "      <td>717575.50</td>\n",
       "      <td>660342.26</td>\n",
       "      <td>533459.83</td>\n",
       "      <td>394680.69</td>\n",
       "      <td>296057.0</td>\n",
       "      <td>394680.69</td>\n",
       "    </tr>\n",
       "    <tr>\n",
       "      <th>4094</th>\n",
       "      <td>397470.0</td>\n",
       "      <td>398257.29</td>\n",
       "      <td>121769.56</td>\n",
       "      <td>205569.88</td>\n",
       "      <td>151753.09</td>\n",
       "      <td>296057.0</td>\n",
       "      <td>151753.09</td>\n",
       "    </tr>\n",
       "    <tr>\n",
       "      <th>3423</th>\n",
       "      <td>178703.0</td>\n",
       "      <td>398257.29</td>\n",
       "      <td>391055.91</td>\n",
       "      <td>191486.50</td>\n",
       "      <td>192317.80</td>\n",
       "      <td>296057.0</td>\n",
       "      <td>192317.80</td>\n",
       "    </tr>\n",
       "    <tr>\n",
       "      <th>20</th>\n",
       "      <td>221860.0</td>\n",
       "      <td>717575.50</td>\n",
       "      <td>929628.60</td>\n",
       "      <td>979072.38</td>\n",
       "      <td>914514.61</td>\n",
       "      <td>296057.0</td>\n",
       "      <td>914514.61</td>\n",
       "    </tr>\n",
       "  </tbody>\n",
       "</table>\n",
       "</div>"
      ],
      "text/plain": [
       "        actual  lm_bedrooms  lm_bathrooms  lm_square_feet  lm_key_features  \\\n",
       "2987  104752.0    238598.19     391055.91       502765.28        621559.94   \n",
       "1596  561559.0    717575.50     660342.26       533459.83        394680.69   \n",
       "4094  397470.0    398257.29     121769.56       205569.88        151753.09   \n",
       "3423  178703.0    398257.29     391055.91       191486.50        192317.80   \n",
       "20    221860.0    717575.50     929628.60       979072.38        914514.61   \n",
       "\n",
       "      baseline    lm_sqft  \n",
       "2987  296057.0  621559.94  \n",
       "1596  296057.0  394680.69  \n",
       "4094  296057.0  151753.09  \n",
       "3423  296057.0  192317.80  \n",
       "20    296057.0  914514.61  "
      ]
     },
     "execution_count": 49,
     "metadata": {},
     "output_type": "execute_result"
    }
   ],
   "source": [
    "predictions.round(2).head()"
   ]
  },
  {
   "cell_type": "markdown",
   "metadata": {},
   "source": [
    "As before, we used a Linear Regression model, and we fitted it with our data. When we look at the MSE to compare whether it is better than our previous models, we see that it is actually very similar to our key_features model, but because we know the features have been more strongly engineered to be less dependent, we have a much higher confidence in our new model being more accurate."
   ]
  },
  {
   "cell_type": "code",
   "execution_count": 50,
   "metadata": {
    "scrolled": false
   },
   "outputs": [
    {
     "data": {
      "text/plain": [
       "actual             0.000000e+00\n",
       "lm_bedrooms        2.270279e+11\n",
       "lm_bathrooms       1.784672e+11\n",
       "lm_square_feet     1.516813e+11\n",
       "lm_key_features    1.467294e+11\n",
       "baseline           2.639209e+11\n",
       "lm_sqft            1.467294e+11\n",
       "dtype: float64"
      ]
     },
     "execution_count": 50,
     "metadata": {},
     "output_type": "execute_result"
    }
   ],
   "source": [
    "predictions.apply(lambda col: sklearn.metrics.mean_squared_error(predictions.actual, col))"
   ]
  },
  {
   "cell_type": "code",
   "execution_count": 51,
   "metadata": {},
   "outputs": [
    {
     "data": {
      "image/png": "[encoded data removed]",
      "text/plain": [
       "<Figure size 648x648 with 1 Axes>"
      ]
     },
     "metadata": {
      "needs_background": "light"
     },
     "output_type": "display_data"
    }
   ],
   "source": [
    "plt.figure(figsize=(9, 9))\n",
    "\n",
    "plt.scatter(predictions.actual, predictions.lm_sqft, label=\"bedroom, bathroom and sqr feet\", marker='o')\n",
    "plt.scatter(predictions.actual, predictions.baseline, label=r'Baseline ($\\hat{y} = \\bar{y}$)', marker='o')\n",
    "plt.plot(\n",
    "    [predictions.actual.min(), predictions.actual.max()],\n",
    "    [predictions.actual.min(), predictions.actual.max()],\n",
    "    ls=':',\n",
    "    label='perfect prediction',\n",
    "    c='grey'\n",
    ")\n",
    "\n",
    "plt.legend(title='Model')\n",
    "plt.ylabel('Predicted')\n",
    "plt.xlabel('Actual')\n",
    "plt.title('Predicted vs Actual')\n",
    "\n",
    "plt.show()"
   ]
  },
  {
   "cell_type": "markdown",
   "metadata": {},
   "source": [
    "From the graph above, we can see that the model does really well predicting the value of houses up to around $3 million dollars, however, beyond that it misses a lot. This is likely because the key features we are using are helpful to predict base value, but when it comes to the more expensive hosues, there are other key features (like location) that are much better predictors."
   ]
  },
  {
   "cell_type": "code",
   "execution_count": 52,
   "metadata": {
    "scrolled": true
   },
   "outputs": [
    {
     "name": "stdout",
     "output_type": "stream",
     "text": [
      "\n",
      "\n",
      "Summary of coefficients:\n",
      "\n",
      "For every square foot (that isn't a bedroom or a bathroon) increase, \n",
      "we expect the value of the home to increase by: $376\n",
      "\n",
      "For every bedroom square feet, we can expect the value of the home to decrease by: $-102\n",
      "\n",
      "For every bathroom square feet, we can expect the value of the home to decrease by: $1,758\n",
      "\n",
      "If a property has no square footage of any kind (meaning X values equal 0), \n",
      "then the value of the home would be: $-17,433. The y-intercept is likely a negative value, because we still haven't found all the features that could affect home price.\n",
      "\n",
      "\n"
     ]
    }
   ],
   "source": [
    "print(f'''\n",
    "\n",
    "Summary of coefficients:\n",
    "\n",
    "For every square foot (that isn't a bedroom or a bathroon) increase, \n",
    "we expect the value of the home to increase by: ${lm.coef_[0][0]:,.0f}\n",
    "\n",
    "For every bedroom square feet, we can expect the value of the home to decrease by: ${lm.coef_[0][1]:,.0f}\n",
    "\n",
    "For every bathroom square feet, we can expect the value of the home to decrease by: ${lm.coef_[0][2]:,.0f}\n",
    "\n",
    "If a property has no square footage of any kind (meaning X values equal 0), \n",
    "then the value of the home would be: ${lm.intercept_[0]:,.0f}. The y-intercept is likely a negative value, because we still haven't found all the features that could affect home price.\n",
    "\n",
    "''')"
   ]
  },
  {
   "cell_type": "markdown",
   "metadata": {},
   "source": [
    "# Evaluate"
   ]
  },
  {
   "cell_type": "markdown",
   "metadata": {},
   "source": [
    "We evaluate our new model by passing the test data, and it performs "
   ]
  },
  {
   "cell_type": "code",
   "execution_count": 53,
   "metadata": {},
   "outputs": [
    {
     "name": "stdout",
     "output_type": "stream",
     "text": [
      "\n",
      "\n",
      "Our test MSE is: 1e+11\n",
      "Our train MSE is: 1e+11\n",
      "\n",
      "The difference is 3% \n",
      "\n"
     ]
    }
   ],
   "source": [
    "X_adv = X_train_adv\n",
    "y_adv = y_train_adv\n",
    "\n",
    "lm = LinearRegression().fit(X_adv, y_adv)\n",
    "\n",
    "y_test_prediction_adv = lm.predict(X_test_adv[[\"sqft_without_bedroom_bathroom\", \"bedroom_sqft\", \"bathroom_sqft\"]])\n",
    "y_test_actual_adv = y_test_adv\n",
    "\n",
    "test_mse_adv = sklearn.metrics.mean_squared_error(y_test_actual_adv, y_test_prediction_adv)\n",
    "train_mse_adv = sklearn.metrics.mean_squared_error(predictions.actual, predictions.lm_sqft)\n",
    "\n",
    "print(f'''\n",
    "\n",
    "Our test MSE is: {test_mse_adv:,.0}\n",
    "Our train MSE is: {train_mse_adv:,.0}\n",
    "\n",
    "The difference is {(train_mse_adv - test_mse_adv)/test_mse_adv * 100:.0f}% \n",
    "'''\n",
    ")"
   ]
  },
  {
   "cell_type": "code",
   "execution_count": 54,
   "metadata": {
    "scrolled": false
   },
   "outputs": [
    {
     "name": "stdout",
     "output_type": "stream",
     "text": [
      "\n",
      "On avg, our new model is, on average, off by $378,045, while the baseline model is off, on average, by $513,732.\n",
      "Our second best performing model had an RMSE of $389,463\n",
      "\n",
      "Our models R-square value is: 0.41\n",
      "Percent of variance in y explained by x = 41.0%\n",
      "\n",
      "\n"
     ]
    }
   ],
   "source": [
    "import math\n",
    "\n",
    "print(f'''\n",
    "On avg, our new model is, on average, off by ${math.sqrt(test_mse_adv):,.0f}, while the baseline model is off, on average, by ${math.sqrt(sklearn.metrics.mean_squared_error(predictions.actual, predictions.baseline)):,.0f}.\n",
    "Our second best performing model had an RMSE of ${math.sqrt(sklearn.metrics.mean_squared_error(predictions.actual, predictions.lm_square_feet)):,.0f}\n",
    "\n",
    "Our models R-square value is: {explained_variance_score(predictions.actual, predictions.lm_sqft):.2f}\n",
    "Percent of variance in y explained by x = {round(explained_variance_score(predictions.actual, predictions.lm_sqft) *100,0)}%\n",
    "\n",
    "''')"
   ]
  },
  {
   "cell_type": "markdown",
   "metadata": {},
   "source": [
    "# Conclusion\n",
    "\n",
    "Because our RMSE and R-square values are better for our new model than the model using the standard number of bedrooms, bathrooms and square meeters, we can conclude that this is a better way to estimate home value. One interesting thing that I concluded from the coefficients is that the bathroom square footage is considered to be a much heavier indicator of value, and hence, the more bathroom square feet that a house has, the higher the value. \n",
    "\n",
    "After doing some research, I found that individuals usually see the number of bedrooms as the higher indicator of value, and henced try to create smaller rooms to inflate the number listed. However, because for this case we are not calculating the value that someone would sell their house to, but rather what the tax value of the house is, which is why the bedroom square footage is giving a negative coefficient. As such, we shouldn't consider tradidional features, and instead focus on what tax assessors look at when assessing homes. In this case, bathroom size is a much better indicator of the *quality* of the home, because if there are more bathrooms, it can be expected that the rest of the house will also be bigger. Other luxury items that could potentially help us calculate the tax value are garage size and fireplace or pool size. Unfortunately, in this dataset, these features have a lot of null values, and as such couldn't be used for modeling, as the sample size would be too small.\n",
    "\n",
    "Another key area that could be having a large impact is location. Location is hard to assess from the data, because despite having latitude and longitude information, a linear regression model can't really interpret that type of data. We would need to do a clustering algorithm first to potentially group locations with higher value. "
   ]
  },
  {
   "cell_type": "markdown",
   "metadata": {},
   "source": [
    "__________"
   ]
  },
  {
   "cell_type": "markdown",
   "metadata": {},
   "source": [
    "## Model with Land Size\n",
    "\n",
    "Another model that I thought could help influence the total value of the property was the lot size. After doing some reaserch, I found that the `calculatedsquarefeet` feature only includes the finished \"living\" space, and does not include the lot area. As one would assume, the bigger the lot, the bigger the value of the house. As such, I engenieered a new feature called `total_area` that was calculated by adding the `sqft_without_bedroom_bathroom` and `lotsizesquarefeet`, which contains information about the size of the lot the house is in. \n",
    "\n",
    "* $H_0$: A model using lot area will not perform better than a model without land area\n",
    "* $H_a$: A model using lot area will perform better than a model without land area"
   ]
  },
  {
   "cell_type": "code",
   "execution_count": 55,
   "metadata": {},
   "outputs": [],
   "source": [
    "X_train_adv_2 = train[[\"total_area\", \"bathroom_sqft\", \"bedroom_sqft\"]]\n",
    "y_train_adv_2 = train[[\"house_value\"]]\n",
    "X_test_adv_2 = test[[\"total_area\", \"bathroom_sqft\", \"bedroom_sqft\"]]\n",
    "y_test_adv_2 = test[[\"house_value\"]]\n",
    "\n",
    "# scaler, train_scaled, test_scaled = split_scale.min_max_scaler(X_train_adv_2, X_test_adv_2)\n",
    "\n",
    "X_adv_2 = X_train_adv_2\n",
    "y_adv_2 = y_train_adv\n",
    "\n",
    "lm = LinearRegression().fit(X_adv_2, y_adv_2)\n",
    "predictions[\"lm_sqft_location_sqft\"] = lm.predict(X_adv_2)"
   ]
  },
  {
   "cell_type": "code",
   "execution_count": 56,
   "metadata": {
    "scrolled": false
   },
   "outputs": [
    {
     "name": "stdout",
     "output_type": "stream",
     "text": [
      "\n",
      "On avg, our new model is, on average, off by $419,903, while the baseline model is off, on average, by $513,732.\n",
      "Our second best performing model had an RMSE of $383,053\n",
      "\n",
      "Our models R-square value is: 0.287\n",
      "Percent of variance in y explained by x = 28.7%\n",
      "\n",
      "\n"
     ]
    }
   ],
   "source": [
    "print(f'''\n",
    "On avg, our new model is, on average, off by ${math.sqrt(sklearn.metrics.mean_squared_error(predictions.actual, predictions.lm_sqft_location_sqft)):,.0f}, while the baseline model is off, on average, by ${math.sqrt(sklearn.metrics.mean_squared_error(predictions.actual, predictions.baseline)):,.0f}.\n",
    "Our second best performing model had an RMSE of ${math.sqrt(sklearn.metrics.mean_squared_error(predictions.actual, predictions.lm_sqft)):,.0f}\n",
    "\n",
    "Our models R-square value is: {explained_variance_score(predictions.actual, predictions.lm_sqft_location_sqft):.3f}\n",
    "Percent of variance in y explained by x = {round(explained_variance_score(predictions.actual, predictions.lm_sqft_location_sqft) *100,1)}%\n",
    "\n",
    "''')"
   ]
  },
  {
   "cell_type": "code",
   "execution_count": 57,
   "metadata": {},
   "outputs": [
    {
     "name": "stdout",
     "output_type": "stream",
     "text": [
      "\n",
      "\n",
      "Summary of coefficients:\n",
      "\n",
      "For every square foot (that isn't a bedroom or a bathroon) increase, \n",
      "we expect the value of the home to increase by: $1\n",
      "\n",
      "For every bathroom square feet, we can expect the value of the home to decrease by: $7,329\n",
      "\n",
      "For every bedroom square feet, we can expect the value of the home to decrease by: $-225\n",
      "\n",
      "\n"
     ]
    }
   ],
   "source": [
    "print(f'''\n",
    "\n",
    "Summary of coefficients:\n",
    "\n",
    "For every square foot (that isn't a bedroom or a bathroon) increase, \n",
    "we expect the value of the home to increase by: ${lm.coef_[0][0]:,.0f}\n",
    "\n",
    "For every bathroom square feet, we can expect the value of the home to decrease by: ${lm.coef_[0][1]:,.0f}\n",
    "\n",
    "For every bedroom square feet, we can expect the value of the home to decrease by: ${lm.coef_[0][2]:,.0f}\n",
    "\n",
    "''')"
   ]
  },
  {
   "cell_type": "markdown",
   "metadata": {},
   "source": [
    "## Conclusion\n",
    "\n",
    "Interestingly enough - this model does not perform as well as our previous model. This could be to the fact that larger lots might be largest becasue they are in more rural areas, meaning that their calculated value is actually less than the smaller lots near more urban areas, and cost significantly more. Given that our $R^2$ and MSE are worse, we reject the null hypothesis. We do not look at the p-value here because we don't need to know if the two values are significantly different. Even though they are fairly similar, the added complexity of this model makes me more confident that the previous model is a better altearnative, as it requires less feature engineering and the coefficients seem more realistic.\n",
    "\n",
    "### Overall - the recommended model is the one using the calculated bathroom square footage, bedroom square footage, and living space square footage. "
   ]
  }
 ],
 "metadata": {
  "kernelspec": {
   "display_name": "Python 3",
   "language": "python",
   "name": "python3"
  },
  "language_info": {
   "codemirror_mode": {
    "name": "ipython",
    "version": 3
   },
   "file_extension": ".py",
   "mimetype": "text/x-python",
   "name": "python",
   "nbconvert_exporter": "python",
   "pygments_lexer": "ipython3",
   "version": "3.7.4"
  }
 },
 "nbformat": 4,
 "nbformat_minor": 2
}
